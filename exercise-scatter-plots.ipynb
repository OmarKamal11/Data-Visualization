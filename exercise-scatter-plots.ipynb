{
 "cells": [
  {
   "cell_type": "markdown",
   "id": "788f4f94",
   "metadata": {
    "papermill": {
     "duration": 0.010417,
     "end_time": "2022-09-14T22:27:59.617797",
     "exception": false,
     "start_time": "2022-09-14T22:27:59.607380",
     "status": "completed"
    },
    "tags": []
   },
   "source": [
    "**This notebook is an exercise in the [Data Visualization](https://www.kaggle.com/learn/data-visualization) course.  You can reference the tutorial at [this link](https://www.kaggle.com/alexisbcook/scatter-plots).**\n",
    "\n",
    "---\n"
   ]
  },
  {
   "cell_type": "markdown",
   "id": "d01889af",
   "metadata": {
    "papermill": {
     "duration": 0.008861,
     "end_time": "2022-09-14T22:27:59.636452",
     "exception": false,
     "start_time": "2022-09-14T22:27:59.627591",
     "status": "completed"
    },
    "tags": []
   },
   "source": [
    "In this exercise, you will use your new knowledge to propose a solution to a real-world scenario.  To succeed, you will need to import data into Python, answer questions using the data, and generate **scatter plots** to understand patterns in the data.\n",
    "\n",
    "## Scenario\n",
    "\n",
    "You work for a major candy producer, and your goal is to write a report that your company can use to guide the design of its next product.  Soon after starting your research, you stumble across this [very interesting dataset](https://fivethirtyeight.com/features/the-ultimate-halloween-candy-power-ranking/) containing results from a fun survey to crowdsource favorite candies.\n",
    "\n",
    "## Setup\n",
    "\n",
    "Run the next cell to import and configure the Python libraries that you need to complete the exercise."
   ]
  },
  {
   "cell_type": "code",
   "execution_count": 1,
   "id": "04a0e4a5",
   "metadata": {
    "execution": {
     "iopub.execute_input": "2022-09-14T22:27:59.656077Z",
     "iopub.status.busy": "2022-09-14T22:27:59.655531Z",
     "iopub.status.idle": "2022-09-14T22:28:00.933044Z",
     "shell.execute_reply": "2022-09-14T22:28:00.930807Z"
    },
    "papermill": {
     "duration": 1.292647,
     "end_time": "2022-09-14T22:28:00.937708",
     "exception": false,
     "start_time": "2022-09-14T22:27:59.645061",
     "status": "completed"
    },
    "tags": []
   },
   "outputs": [
    {
     "name": "stdout",
     "output_type": "stream",
     "text": [
      "Setup Complete\n"
     ]
    }
   ],
   "source": [
    "import pandas as pd\n",
    "pd.plotting.register_matplotlib_converters()\n",
    "import matplotlib.pyplot as plt\n",
    "%matplotlib inline\n",
    "import seaborn as sns\n",
    "print(\"Setup Complete\")"
   ]
  },
  {
   "cell_type": "markdown",
   "id": "8b547a85",
   "metadata": {
    "papermill": {
     "duration": 0.010874,
     "end_time": "2022-09-14T22:28:00.963512",
     "exception": false,
     "start_time": "2022-09-14T22:28:00.952638",
     "status": "completed"
    },
    "tags": []
   },
   "source": [
    "The questions below will give you feedback on your work. Run the following cell to set up our feedback system."
   ]
  },
  {
   "cell_type": "code",
   "execution_count": 2,
   "id": "ebd29bdd",
   "metadata": {
    "execution": {
     "iopub.execute_input": "2022-09-14T22:28:00.987414Z",
     "iopub.status.busy": "2022-09-14T22:28:00.986869Z",
     "iopub.status.idle": "2022-09-14T22:28:01.065942Z",
     "shell.execute_reply": "2022-09-14T22:28:01.064237Z"
    },
    "papermill": {
     "duration": 0.094319,
     "end_time": "2022-09-14T22:28:01.068779",
     "exception": false,
     "start_time": "2022-09-14T22:28:00.974460",
     "status": "completed"
    },
    "tags": []
   },
   "outputs": [
    {
     "name": "stdout",
     "output_type": "stream",
     "text": [
      "Setup Complete\n"
     ]
    }
   ],
   "source": [
    "# Set up code checking\n",
    "import os\n",
    "if not os.path.exists(\"../input/candy.csv\"):\n",
    "    os.symlink(\"../input/data-for-datavis/candy.csv\", \"../input/candy.csv\") \n",
    "from learntools.core import binder\n",
    "binder.bind(globals())\n",
    "from learntools.data_viz_to_coder.ex4 import *\n",
    "print(\"Setup Complete\")"
   ]
  },
  {
   "cell_type": "markdown",
   "id": "2f9f8cb2",
   "metadata": {
    "papermill": {
     "duration": 0.009798,
     "end_time": "2022-09-14T22:28:01.087750",
     "exception": false,
     "start_time": "2022-09-14T22:28:01.077952",
     "status": "completed"
    },
    "tags": []
   },
   "source": [
    "## Step 1: Load the Data\n",
    "\n",
    "Read the candy data file into `candy_data`.  Use the `\"id\"` column to label the rows."
   ]
  },
  {
   "cell_type": "code",
   "execution_count": 3,
   "id": "c9d7d09d",
   "metadata": {
    "execution": {
     "iopub.execute_input": "2022-09-14T22:28:01.118523Z",
     "iopub.status.busy": "2022-09-14T22:28:01.117519Z",
     "iopub.status.idle": "2022-09-14T22:28:01.138028Z",
     "shell.execute_reply": "2022-09-14T22:28:01.136804Z"
    },
    "papermill": {
     "duration": 0.036744,
     "end_time": "2022-09-14T22:28:01.140469",
     "exception": false,
     "start_time": "2022-09-14T22:28:01.103725",
     "status": "completed"
    },
    "tags": []
   },
   "outputs": [
    {
     "data": {
      "application/javascript": [
       "parent.postMessage({\"jupyterEvent\": \"custom.exercise_interaction\", \"data\": {\"outcomeType\": 1, \"valueTowardsCompletion\": 0.3333333333333333, \"interactionType\": 1, \"questionType\": 1, \"questionId\": \"1_LoadData\", \"learnToolsVersion\": \"0.3.4\", \"failureMessage\": \"\", \"exceptionClass\": \"\", \"trace\": \"\"}}, \"*\")"
      ],
      "text/plain": [
       "<IPython.core.display.Javascript object>"
      ]
     },
     "metadata": {},
     "output_type": "display_data"
    },
    {
     "data": {
      "text/markdown": [
       "<span style=\"color:#33cc33\">Correct</span>"
      ],
      "text/plain": [
       "Correct"
      ]
     },
     "metadata": {},
     "output_type": "display_data"
    }
   ],
   "source": [
    "# Path of the file to read\n",
    "candy_filepath = \"../input/candy.csv\"\n",
    "\n",
    "# Fill in the line below to read the file into a variable candy_data\n",
    "candy_data = pd.read_csv(candy_filepath,index_col='id')\n",
    "\n",
    "# Run the line below with no changes to check that you've loaded the data correctly\n",
    "step_1.check()"
   ]
  },
  {
   "cell_type": "code",
   "execution_count": 4,
   "id": "c128f9d4",
   "metadata": {
    "execution": {
     "iopub.execute_input": "2022-09-14T22:28:01.164537Z",
     "iopub.status.busy": "2022-09-14T22:28:01.161932Z",
     "iopub.status.idle": "2022-09-14T22:28:01.168610Z",
     "shell.execute_reply": "2022-09-14T22:28:01.167591Z"
    },
    "papermill": {
     "duration": 0.020984,
     "end_time": "2022-09-14T22:28:01.171693",
     "exception": false,
     "start_time": "2022-09-14T22:28:01.150709",
     "status": "completed"
    },
    "tags": []
   },
   "outputs": [],
   "source": [
    "# Lines below will give you a hint or solution code\n",
    "#step_1.hint()\n",
    "#step_1.solution()"
   ]
  },
  {
   "cell_type": "markdown",
   "id": "bd073c72",
   "metadata": {
    "papermill": {
     "duration": 0.01122,
     "end_time": "2022-09-14T22:28:01.196154",
     "exception": false,
     "start_time": "2022-09-14T22:28:01.184934",
     "status": "completed"
    },
    "tags": []
   },
   "source": [
    "## Step 2: Review the data\n",
    "\n",
    "Use a Python command to print the first five rows of the data."
   ]
  },
  {
   "cell_type": "code",
   "execution_count": 5,
   "id": "e544d688",
   "metadata": {
    "execution": {
     "iopub.execute_input": "2022-09-14T22:28:01.222287Z",
     "iopub.status.busy": "2022-09-14T22:28:01.221386Z",
     "iopub.status.idle": "2022-09-14T22:28:01.253354Z",
     "shell.execute_reply": "2022-09-14T22:28:01.251221Z"
    },
    "papermill": {
     "duration": 0.051344,
     "end_time": "2022-09-14T22:28:01.257993",
     "exception": false,
     "start_time": "2022-09-14T22:28:01.206649",
     "status": "completed"
    },
    "tags": []
   },
   "outputs": [
    {
     "data": {
      "text/html": [
       "<div>\n",
       "<style scoped>\n",
       "    .dataframe tbody tr th:only-of-type {\n",
       "        vertical-align: middle;\n",
       "    }\n",
       "\n",
       "    .dataframe tbody tr th {\n",
       "        vertical-align: top;\n",
       "    }\n",
       "\n",
       "    .dataframe thead th {\n",
       "        text-align: right;\n",
       "    }\n",
       "</style>\n",
       "<table border=\"1\" class=\"dataframe\">\n",
       "  <thead>\n",
       "    <tr style=\"text-align: right;\">\n",
       "      <th></th>\n",
       "      <th>competitorname</th>\n",
       "      <th>chocolate</th>\n",
       "      <th>fruity</th>\n",
       "      <th>caramel</th>\n",
       "      <th>peanutyalmondy</th>\n",
       "      <th>nougat</th>\n",
       "      <th>crispedricewafer</th>\n",
       "      <th>hard</th>\n",
       "      <th>bar</th>\n",
       "      <th>pluribus</th>\n",
       "      <th>sugarpercent</th>\n",
       "      <th>pricepercent</th>\n",
       "      <th>winpercent</th>\n",
       "    </tr>\n",
       "    <tr>\n",
       "      <th>id</th>\n",
       "      <th></th>\n",
       "      <th></th>\n",
       "      <th></th>\n",
       "      <th></th>\n",
       "      <th></th>\n",
       "      <th></th>\n",
       "      <th></th>\n",
       "      <th></th>\n",
       "      <th></th>\n",
       "      <th></th>\n",
       "      <th></th>\n",
       "      <th></th>\n",
       "      <th></th>\n",
       "    </tr>\n",
       "  </thead>\n",
       "  <tbody>\n",
       "    <tr>\n",
       "      <th>0</th>\n",
       "      <td>100 Grand</td>\n",
       "      <td>Yes</td>\n",
       "      <td>No</td>\n",
       "      <td>Yes</td>\n",
       "      <td>No</td>\n",
       "      <td>No</td>\n",
       "      <td>Yes</td>\n",
       "      <td>No</td>\n",
       "      <td>Yes</td>\n",
       "      <td>No</td>\n",
       "      <td>0.732</td>\n",
       "      <td>0.860</td>\n",
       "      <td>66.971725</td>\n",
       "    </tr>\n",
       "    <tr>\n",
       "      <th>1</th>\n",
       "      <td>3 Musketeers</td>\n",
       "      <td>Yes</td>\n",
       "      <td>No</td>\n",
       "      <td>No</td>\n",
       "      <td>No</td>\n",
       "      <td>Yes</td>\n",
       "      <td>No</td>\n",
       "      <td>No</td>\n",
       "      <td>Yes</td>\n",
       "      <td>No</td>\n",
       "      <td>0.604</td>\n",
       "      <td>0.511</td>\n",
       "      <td>67.602936</td>\n",
       "    </tr>\n",
       "    <tr>\n",
       "      <th>2</th>\n",
       "      <td>Air Heads</td>\n",
       "      <td>No</td>\n",
       "      <td>Yes</td>\n",
       "      <td>No</td>\n",
       "      <td>No</td>\n",
       "      <td>No</td>\n",
       "      <td>No</td>\n",
       "      <td>No</td>\n",
       "      <td>No</td>\n",
       "      <td>No</td>\n",
       "      <td>0.906</td>\n",
       "      <td>0.511</td>\n",
       "      <td>52.341465</td>\n",
       "    </tr>\n",
       "    <tr>\n",
       "      <th>3</th>\n",
       "      <td>Almond Joy</td>\n",
       "      <td>Yes</td>\n",
       "      <td>No</td>\n",
       "      <td>No</td>\n",
       "      <td>Yes</td>\n",
       "      <td>No</td>\n",
       "      <td>No</td>\n",
       "      <td>No</td>\n",
       "      <td>Yes</td>\n",
       "      <td>No</td>\n",
       "      <td>0.465</td>\n",
       "      <td>0.767</td>\n",
       "      <td>50.347546</td>\n",
       "    </tr>\n",
       "    <tr>\n",
       "      <th>4</th>\n",
       "      <td>Baby Ruth</td>\n",
       "      <td>Yes</td>\n",
       "      <td>No</td>\n",
       "      <td>Yes</td>\n",
       "      <td>Yes</td>\n",
       "      <td>Yes</td>\n",
       "      <td>No</td>\n",
       "      <td>No</td>\n",
       "      <td>Yes</td>\n",
       "      <td>No</td>\n",
       "      <td>0.604</td>\n",
       "      <td>0.767</td>\n",
       "      <td>56.914547</td>\n",
       "    </tr>\n",
       "  </tbody>\n",
       "</table>\n",
       "</div>"
      ],
      "text/plain": [
       "   competitorname chocolate fruity caramel peanutyalmondy nougat  \\\n",
       "id                                                                 \n",
       "0       100 Grand       Yes     No     Yes             No     No   \n",
       "1    3 Musketeers       Yes     No      No             No    Yes   \n",
       "2       Air Heads        No    Yes      No             No     No   \n",
       "3      Almond Joy       Yes     No      No            Yes     No   \n",
       "4       Baby Ruth       Yes     No     Yes            Yes    Yes   \n",
       "\n",
       "   crispedricewafer hard  bar pluribus  sugarpercent  pricepercent  winpercent  \n",
       "id                                                                              \n",
       "0               Yes   No  Yes       No         0.732         0.860   66.971725  \n",
       "1                No   No  Yes       No         0.604         0.511   67.602936  \n",
       "2                No   No   No       No         0.906         0.511   52.341465  \n",
       "3                No   No  Yes       No         0.465         0.767   50.347546  \n",
       "4                No   No  Yes       No         0.604         0.767   56.914547  "
      ]
     },
     "execution_count": 5,
     "metadata": {},
     "output_type": "execute_result"
    }
   ],
   "source": [
    "# Print the first five rows of the data\n",
    "candy_data.head()"
   ]
  },
  {
   "cell_type": "markdown",
   "id": "2b89c032",
   "metadata": {
    "papermill": {
     "duration": 0.009256,
     "end_time": "2022-09-14T22:28:01.281092",
     "exception": false,
     "start_time": "2022-09-14T22:28:01.271836",
     "status": "completed"
    },
    "tags": []
   },
   "source": [
    "The dataset contains 83 rows, where each corresponds to a different candy bar.  There are 13 columns:\n",
    "- `'competitorname'` contains the name of the candy bar. \n",
    "- the next **9** columns (from `'chocolate'` to `'pluribus'`) describe the candy.  For instance, rows with chocolate candies have `\"Yes\"` in the `'chocolate'` column (and candies without chocolate have `\"No\"` in the same column).\n",
    "- `'sugarpercent'` provides some indication of the amount of sugar, where higher values signify higher sugar content.\n",
    "- `'pricepercent'` shows the price per unit, relative to the other candies in the dataset.\n",
    "- `'winpercent'` is calculated from the survey results; higher values indicate that the candy was more popular with survey respondents.\n",
    "\n",
    "Use the first five rows of the data to answer the questions below."
   ]
  },
  {
   "cell_type": "code",
   "execution_count": 6,
   "id": "781bd016",
   "metadata": {
    "execution": {
     "iopub.execute_input": "2022-09-14T22:28:01.305581Z",
     "iopub.status.busy": "2022-09-14T22:28:01.304695Z",
     "iopub.status.idle": "2022-09-14T22:28:01.315435Z",
     "shell.execute_reply": "2022-09-14T22:28:01.314250Z"
    },
    "papermill": {
     "duration": 0.025291,
     "end_time": "2022-09-14T22:28:01.317834",
     "exception": false,
     "start_time": "2022-09-14T22:28:01.292543",
     "status": "completed"
    },
    "tags": []
   },
   "outputs": [
    {
     "data": {
      "application/javascript": [
       "parent.postMessage({\"jupyterEvent\": \"custom.exercise_interaction\", \"data\": {\"outcomeType\": 1, \"valueTowardsCompletion\": 0.3333333333333333, \"interactionType\": 1, \"questionType\": 1, \"questionId\": \"2_ReviewData\", \"learnToolsVersion\": \"0.3.4\", \"failureMessage\": \"\", \"exceptionClass\": \"\", \"trace\": \"\"}}, \"*\")"
      ],
      "text/plain": [
       "<IPython.core.display.Javascript object>"
      ]
     },
     "metadata": {},
     "output_type": "display_data"
    },
    {
     "data": {
      "text/markdown": [
       "<span style=\"color:#33cc33\">Correct</span>"
      ],
      "text/plain": [
       "Correct"
      ]
     },
     "metadata": {},
     "output_type": "display_data"
    }
   ],
   "source": [
    "# Fill in the line below: Which candy was more popular with survey respondents:\n",
    "# '3 Musketeers' or 'Almond Joy'?  (Please enclose your answer in single quotes.)\n",
    "more_popular = '3 Musketeers'\n",
    "\n",
    "# Fill in the line below: Which candy has higher sugar content: 'Air Heads'\n",
    "# or 'Baby Ruth'? (Please enclose your answer in single quotes.)\n",
    "more_sugar = 'Air Heads'\n",
    "\n",
    "# Check your answers\n",
    "step_2.check()"
   ]
  },
  {
   "cell_type": "code",
   "execution_count": 7,
   "id": "85b99dad",
   "metadata": {
    "execution": {
     "iopub.execute_input": "2022-09-14T22:28:01.340105Z",
     "iopub.status.busy": "2022-09-14T22:28:01.339146Z",
     "iopub.status.idle": "2022-09-14T22:28:01.344643Z",
     "shell.execute_reply": "2022-09-14T22:28:01.343535Z"
    },
    "papermill": {
     "duration": 0.020033,
     "end_time": "2022-09-14T22:28:01.347715",
     "exception": false,
     "start_time": "2022-09-14T22:28:01.327682",
     "status": "completed"
    },
    "tags": []
   },
   "outputs": [],
   "source": [
    "# Lines below will give you a hint or solution code\n",
    "#step_2.hint()\n",
    "#step_2.solution()"
   ]
  },
  {
   "cell_type": "markdown",
   "id": "1f9f74ef",
   "metadata": {
    "papermill": {
     "duration": 0.009296,
     "end_time": "2022-09-14T22:28:01.371028",
     "exception": false,
     "start_time": "2022-09-14T22:28:01.361732",
     "status": "completed"
    },
    "tags": []
   },
   "source": [
    "## Step 3: The role of sugar\n",
    "\n",
    "Do people tend to prefer candies with higher sugar content?  \n",
    "\n",
    "#### Part A\n",
    "\n",
    "Create a scatter plot that shows the relationship between `'sugarpercent'` (on the horizontal x-axis) and `'winpercent'` (on the vertical y-axis).  _Don't add a regression line just yet -- you'll do that in the next step!_"
   ]
  },
  {
   "cell_type": "code",
   "execution_count": 8,
   "id": "683856ca",
   "metadata": {
    "execution": {
     "iopub.execute_input": "2022-09-14T22:28:01.393690Z",
     "iopub.status.busy": "2022-09-14T22:28:01.392560Z",
     "iopub.status.idle": "2022-09-14T22:28:01.686904Z",
     "shell.execute_reply": "2022-09-14T22:28:01.685446Z"
    },
    "papermill": {
     "duration": 0.31002,
     "end_time": "2022-09-14T22:28:01.690856",
     "exception": false,
     "start_time": "2022-09-14T22:28:01.380836",
     "status": "completed"
    },
    "tags": []
   },
   "outputs": [
    {
     "data": {
      "application/javascript": [
       "parent.postMessage({\"jupyterEvent\": \"custom.exercise_interaction\", \"data\": {\"outcomeType\": 1, \"valueTowardsCompletion\": 0.3333333333333333, \"interactionType\": 1, \"questionType\": 2, \"questionId\": \"3.1_PlotBlueScatter\", \"learnToolsVersion\": \"0.3.4\", \"failureMessage\": \"\", \"exceptionClass\": \"\", \"trace\": \"\"}}, \"*\")"
      ],
      "text/plain": [
       "<IPython.core.display.Javascript object>"
      ]
     },
     "metadata": {},
     "output_type": "display_data"
    },
    {
     "data": {
      "text/markdown": [
       "<span style=\"color:#33cc33\">Correct</span>"
      ],
      "text/plain": [
       "Correct"
      ]
     },
     "metadata": {},
     "output_type": "display_data"
    },
    {
     "data": {
      "image/png": "[encoded data removed]",
      "text/plain": [
       "<Figure size 432x288 with 1 Axes>"
      ]
     },
     "metadata": {
      "needs_background": "light"
     },
     "output_type": "display_data"
    }
   ],
   "source": [
    "# Scatter plot showing the relationship between 'sugarpercent' and 'winpercent'\n",
    "sns.scatterplot(x=candy_data['sugarpercent'],y=candy_data['winpercent'])\n",
    "\n",
    "# Check your answer\n",
    "step_3.a.check()"
   ]
  },
  {
   "cell_type": "code",
   "execution_count": 9,
   "id": "8468ed76",
   "metadata": {
    "execution": {
     "iopub.execute_input": "2022-09-14T22:28:01.717971Z",
     "iopub.status.busy": "2022-09-14T22:28:01.716826Z",
     "iopub.status.idle": "2022-09-14T22:28:01.723150Z",
     "shell.execute_reply": "2022-09-14T22:28:01.721853Z"
    },
    "papermill": {
     "duration": 0.021857,
     "end_time": "2022-09-14T22:28:01.725999",
     "exception": false,
     "start_time": "2022-09-14T22:28:01.704142",
     "status": "completed"
    },
    "tags": []
   },
   "outputs": [],
   "source": [
    "# Lines below will give you a hint or solution code\n",
    "#step_3.a.hint()\n",
    "#step_3.a.solution_plot()"
   ]
  },
  {
   "cell_type": "markdown",
   "id": "1171a5b0",
   "metadata": {
    "papermill": {
     "duration": 0.010398,
     "end_time": "2022-09-14T22:28:01.747380",
     "exception": false,
     "start_time": "2022-09-14T22:28:01.736982",
     "status": "completed"
    },
    "tags": []
   },
   "source": [
    "#### Part B\n",
    "\n",
    "Does the scatter plot show a **strong** correlation between the two variables?  If so, are candies with more sugar relatively more or less popular with the survey respondents?"
   ]
  },
  {
   "cell_type": "code",
   "execution_count": 10,
   "id": "a0f82dc7",
   "metadata": {
    "execution": {
     "iopub.execute_input": "2022-09-14T22:28:01.772344Z",
     "iopub.status.busy": "2022-09-14T22:28:01.771256Z",
     "iopub.status.idle": "2022-09-14T22:28:01.777108Z",
     "shell.execute_reply": "2022-09-14T22:28:01.776019Z"
    },
    "papermill": {
     "duration": 0.021475,
     "end_time": "2022-09-14T22:28:01.779683",
     "exception": false,
     "start_time": "2022-09-14T22:28:01.758208",
     "status": "completed"
    },
    "tags": []
   },
   "outputs": [],
   "source": [
    "#step_3.b.hint()"
   ]
  },
  {
   "cell_type": "code",
   "execution_count": 11,
   "id": "042b46c6",
   "metadata": {
    "execution": {
     "iopub.execute_input": "2022-09-14T22:28:01.804059Z",
     "iopub.status.busy": "2022-09-14T22:28:01.802960Z",
     "iopub.status.idle": "2022-09-14T22:28:01.813512Z",
     "shell.execute_reply": "2022-09-14T22:28:01.812307Z"
    },
    "papermill": {
     "duration": 0.025435,
     "end_time": "2022-09-14T22:28:01.815901",
     "exception": false,
     "start_time": "2022-09-14T22:28:01.790466",
     "status": "completed"
    },
    "tags": []
   },
   "outputs": [
    {
     "data": {
      "application/javascript": [
       "parent.postMessage({\"jupyterEvent\": \"custom.exercise_interaction\", \"data\": {\"interactionType\": 3, \"questionType\": 4, \"questionId\": \"3.2_ThinkBlueScatter\", \"learnToolsVersion\": \"0.3.4\", \"valueTowardsCompletion\": 0.0, \"failureMessage\": \"\", \"exceptionClass\": \"\", \"trace\": \"\", \"outcomeType\": 4}}, \"*\")"
      ],
      "text/plain": [
       "<IPython.core.display.Javascript object>"
      ]
     },
     "metadata": {},
     "output_type": "display_data"
    },
    {
     "data": {
      "text/markdown": [
       "<span style=\"color:#33cc99\">Solution:</span> The scatter plot does not show a strong correlation between the two variables. Since there is no clear relationship between the two variables, this tells us that sugar content does not play a strong role in candy popularity."
      ],
      "text/plain": [
       "Solution: The scatter plot does not show a strong correlation between the two variables. Since there is no clear relationship between the two variables, this tells us that sugar content does not play a strong role in candy popularity."
      ]
     },
     "metadata": {},
     "output_type": "display_data"
    }
   ],
   "source": [
    "# Check your answer (Run this code cell to receive credit!)\n",
    "step_3.b.solution()"
   ]
  },
  {
   "cell_type": "markdown",
   "id": "e4d77c3e",
   "metadata": {
    "papermill": {
     "duration": 0.010311,
     "end_time": "2022-09-14T22:28:01.837222",
     "exception": false,
     "start_time": "2022-09-14T22:28:01.826911",
     "status": "completed"
    },
    "tags": []
   },
   "source": [
    "## Step 4: Take a closer look\n",
    "\n",
    "#### Part A\n",
    "\n",
    "Create the same scatter plot you created in **Step 3**, but now with a regression line!"
   ]
  },
  {
   "cell_type": "code",
   "execution_count": 12,
   "id": "85136567",
   "metadata": {
    "execution": {
     "iopub.execute_input": "2022-09-14T22:28:01.862068Z",
     "iopub.status.busy": "2022-09-14T22:28:01.860929Z",
     "iopub.status.idle": "2022-09-14T22:28:02.216536Z",
     "shell.execute_reply": "2022-09-14T22:28:02.215228Z"
    },
    "papermill": {
     "duration": 0.370973,
     "end_time": "2022-09-14T22:28:02.219078",
     "exception": false,
     "start_time": "2022-09-14T22:28:01.848105",
     "status": "completed"
    },
    "tags": []
   },
   "outputs": [
    {
     "data": {
      "application/javascript": [
       "parent.postMessage({\"jupyterEvent\": \"custom.exercise_interaction\", \"data\": {\"outcomeType\": 1, \"valueTowardsCompletion\": 0.3333333333333333, \"interactionType\": 1, \"questionType\": 2, \"questionId\": \"4.1_PlotBlueReg\", \"learnToolsVersion\": \"0.3.4\", \"failureMessage\": \"\", \"exceptionClass\": \"\", \"trace\": \"\"}}, \"*\")"
      ],
      "text/plain": [
       "<IPython.core.display.Javascript object>"
      ]
     },
     "metadata": {},
     "output_type": "display_data"
    },
    {
     "data": {
      "text/markdown": [
       "<span style=\"color:#33cc33\">Correct</span>"
      ],
      "text/plain": [
       "Correct"
      ]
     },
     "metadata": {},
     "output_type": "display_data"
    },
    {
     "data": {
      "image/png": "[encoded data removed]",
      "text/plain": [
       "<Figure size 432x288 with 1 Axes>"
      ]
     },
     "metadata": {
      "needs_background": "light"
     },
     "output_type": "display_data"
    }
   ],
   "source": [
    "# Scatter plot w/ regression line showing the relationship between 'sugarpercent' and 'winpercent'\n",
    "\n",
    "sns.regplot(x=candy_data['sugarpercent'],y=candy_data['winpercent'])\n",
    "\n",
    "# Check your answer\n",
    "step_4.a.check()"
   ]
  },
  {
   "cell_type": "code",
   "execution_count": 13,
   "id": "fcdee2b3",
   "metadata": {
    "execution": {
     "iopub.execute_input": "2022-09-14T22:28:02.244475Z",
     "iopub.status.busy": "2022-09-14T22:28:02.243461Z",
     "iopub.status.idle": "2022-09-14T22:28:02.249585Z",
     "shell.execute_reply": "2022-09-14T22:28:02.248252Z"
    },
    "papermill": {
     "duration": 0.021519,
     "end_time": "2022-09-14T22:28:02.252232",
     "exception": false,
     "start_time": "2022-09-14T22:28:02.230713",
     "status": "completed"
    },
    "tags": []
   },
   "outputs": [],
   "source": [
    "# Lines below will give you a hint or solution code\n",
    "#step_4.a.hint()\n",
    "#step_4.a.solution_plot()"
   ]
  },
  {
   "cell_type": "markdown",
   "id": "464ff895",
   "metadata": {
    "papermill": {
     "duration": 0.010706,
     "end_time": "2022-09-14T22:28:02.274406",
     "exception": false,
     "start_time": "2022-09-14T22:28:02.263700",
     "status": "completed"
    },
    "tags": []
   },
   "source": [
    "#### Part B\n",
    "\n",
    "According to the plot above, is there a **slight** correlation between `'winpercent'` and `'sugarpercent'`?  What does this tell you about the candy that people tend to prefer?"
   ]
  },
  {
   "cell_type": "code",
   "execution_count": 14,
   "id": "827fd737",
   "metadata": {
    "execution": {
     "iopub.execute_input": "2022-09-14T22:28:02.299382Z",
     "iopub.status.busy": "2022-09-14T22:28:02.298587Z",
     "iopub.status.idle": "2022-09-14T22:28:02.303939Z",
     "shell.execute_reply": "2022-09-14T22:28:02.302888Z"
    },
    "papermill": {
     "duration": 0.020919,
     "end_time": "2022-09-14T22:28:02.306521",
     "exception": false,
     "start_time": "2022-09-14T22:28:02.285602",
     "status": "completed"
    },
    "tags": []
   },
   "outputs": [],
   "source": [
    "#step_4.b.hint()"
   ]
  },
  {
   "cell_type": "code",
   "execution_count": 15,
   "id": "6b3338bc",
   "metadata": {
    "execution": {
     "iopub.execute_input": "2022-09-14T22:28:02.332281Z",
     "iopub.status.busy": "2022-09-14T22:28:02.331489Z",
     "iopub.status.idle": "2022-09-14T22:28:02.341172Z",
     "shell.execute_reply": "2022-09-14T22:28:02.340021Z"
    },
    "papermill": {
     "duration": 0.02504,
     "end_time": "2022-09-14T22:28:02.343465",
     "exception": false,
     "start_time": "2022-09-14T22:28:02.318425",
     "status": "completed"
    },
    "tags": []
   },
   "outputs": [
    {
     "data": {
      "application/javascript": [
       "parent.postMessage({\"jupyterEvent\": \"custom.exercise_interaction\", \"data\": {\"interactionType\": 3, \"questionType\": 4, \"questionId\": \"4.2_ThinkBlueReg\", \"learnToolsVersion\": \"0.3.4\", \"valueTowardsCompletion\": 0.0, \"failureMessage\": \"\", \"exceptionClass\": \"\", \"trace\": \"\", \"outcomeType\": 4}}, \"*\")"
      ],
      "text/plain": [
       "<IPython.core.display.Javascript object>"
      ]
     },
     "metadata": {},
     "output_type": "display_data"
    },
    {
     "data": {
      "text/markdown": [
       "<span style=\"color:#33cc99\">Solution:</span> Since the regression line has a slightly positive slope, this tells us that there is a slightly positive correlation between `'winpercent'` and `'sugarpercent'`. Thus, people have a slight preference for candies containing relatively more sugar."
      ],
      "text/plain": [
       "Solution: Since the regression line has a slightly positive slope, this tells us that there is a slightly positive correlation between `'winpercent'` and `'sugarpercent'`. Thus, people have a slight preference for candies containing relatively more sugar."
      ]
     },
     "metadata": {},
     "output_type": "display_data"
    }
   ],
   "source": [
    "# Check your answer (Run this code cell to receive credit!)\n",
    "step_4.b.solution()"
   ]
  },
  {
   "cell_type": "markdown",
   "id": "20c66bc4",
   "metadata": {
    "papermill": {
     "duration": 0.011194,
     "end_time": "2022-09-14T22:28:02.365986",
     "exception": false,
     "start_time": "2022-09-14T22:28:02.354792",
     "status": "completed"
    },
    "tags": []
   },
   "source": [
    "## Step 5: Chocolate!\n",
    "\n",
    "In the code cell below, create a scatter plot to show the relationship between `'pricepercent'` (on the horizontal x-axis) and `'winpercent'` (on the vertical y-axis). Use the `'chocolate'` column to color-code the points.  _Don't add any regression lines just yet -- you'll do that in the next step!_"
   ]
  },
  {
   "cell_type": "code",
   "execution_count": 16,
   "id": "7ae1e66b",
   "metadata": {
    "execution": {
     "iopub.execute_input": "2022-09-14T22:28:02.393143Z",
     "iopub.status.busy": "2022-09-14T22:28:02.392291Z",
     "iopub.status.idle": "2022-09-14T22:28:02.706630Z",
     "shell.execute_reply": "2022-09-14T22:28:02.705647Z"
    },
    "papermill": {
     "duration": 0.331587,
     "end_time": "2022-09-14T22:28:02.709177",
     "exception": false,
     "start_time": "2022-09-14T22:28:02.377590",
     "status": "completed"
    },
    "tags": []
   },
   "outputs": [
    {
     "data": {
      "application/javascript": [
       "parent.postMessage({\"jupyterEvent\": \"custom.exercise_interaction\", \"data\": {\"outcomeType\": 1, \"valueTowardsCompletion\": 0.3333333333333333, \"interactionType\": 1, \"questionType\": 2, \"questionId\": \"5_ColorScatter\", \"learnToolsVersion\": \"0.3.4\", \"failureMessage\": \"\", \"exceptionClass\": \"\", \"trace\": \"\"}}, \"*\")"
      ],
      "text/plain": [
       "<IPython.core.display.Javascript object>"
      ]
     },
     "metadata": {},
     "output_type": "display_data"
    },
    {
     "data": {
      "text/markdown": [
       "<span style=\"color:#33cc33\">Correct</span>"
      ],
      "text/plain": [
       "Correct"
      ]
     },
     "metadata": {},
     "output_type": "display_data"
    },
    {
     "data": {
      "image/png": "[encoded data removed]",
      "text/plain": [
       "<Figure size 432x288 with 1 Axes>"
      ]
     },
     "metadata": {
      "needs_background": "light"
     },
     "output_type": "display_data"
    }
   ],
   "source": [
    "# Scatter plot showing the relationship between 'pricepercent', 'winpercent', and 'chocolate'\n",
    "sns.scatterplot(x=candy_data['pricepercent'],y=candy_data['winpercent'],hue=candy_data['chocolate'])\n",
    "\n",
    "# Check your answer\n",
    "step_5.check()"
   ]
  },
  {
   "cell_type": "code",
   "execution_count": 17,
   "id": "fc5b9734",
   "metadata": {
    "execution": {
     "iopub.execute_input": "2022-09-14T22:28:02.737675Z",
     "iopub.status.busy": "2022-09-14T22:28:02.736858Z",
     "iopub.status.idle": "2022-09-14T22:28:02.741740Z",
     "shell.execute_reply": "2022-09-14T22:28:02.740544Z"
    },
    "papermill": {
     "duration": 0.021446,
     "end_time": "2022-09-14T22:28:02.744372",
     "exception": false,
     "start_time": "2022-09-14T22:28:02.722926",
     "status": "completed"
    },
    "tags": []
   },
   "outputs": [],
   "source": [
    "# Lines below will give you a hint or solution code\n",
    "#step_5.hint()\n",
    "#step_5.solution_plot()"
   ]
  },
  {
   "cell_type": "markdown",
   "id": "cbdcb68e",
   "metadata": {
    "papermill": {
     "duration": 0.011704,
     "end_time": "2022-09-14T22:28:02.768459",
     "exception": false,
     "start_time": "2022-09-14T22:28:02.756755",
     "status": "completed"
    },
    "tags": []
   },
   "source": [
    "Can you see any interesting patterns in the scatter plot?  We'll investigate this plot further  by adding regression lines in the next step!\n",
    "\n",
    "## Step 6: Investigate chocolate\n",
    "\n",
    "#### Part A\n",
    "\n",
    "Create the same scatter plot you created in **Step 5**, but now with two regression lines, corresponding to (1) chocolate candies and (2) candies without chocolate."
   ]
  },
  {
   "cell_type": "code",
   "execution_count": 18,
   "id": "2e4b4934",
   "metadata": {
    "execution": {
     "iopub.execute_input": "2022-09-14T22:28:02.795245Z",
     "iopub.status.busy": "2022-09-14T22:28:02.794385Z",
     "iopub.status.idle": "2022-09-14T22:28:03.475760Z",
     "shell.execute_reply": "2022-09-14T22:28:03.474425Z"
    },
    "papermill": {
     "duration": 0.698273,
     "end_time": "2022-09-14T22:28:03.478812",
     "exception": false,
     "start_time": "2022-09-14T22:28:02.780539",
     "status": "completed"
    },
    "tags": []
   },
   "outputs": [
    {
     "data": {
      "application/javascript": [
       "parent.postMessage({\"jupyterEvent\": \"custom.exercise_interaction\", \"data\": {\"outcomeType\": 1, \"valueTowardsCompletion\": 0.3333333333333333, \"interactionType\": 1, \"questionType\": 2, \"questionId\": \"6.1_PlotColorReg\", \"learnToolsVersion\": \"0.3.4\", \"failureMessage\": \"\", \"exceptionClass\": \"\", \"trace\": \"\"}}, \"*\")"
      ],
      "text/plain": [
       "<IPython.core.display.Javascript object>"
      ]
     },
     "metadata": {},
     "output_type": "display_data"
    },
    {
     "data": {
      "text/markdown": [
       "<span style=\"color:#33cc33\">Correct</span>"
      ],
      "text/plain": [
       "Correct"
      ]
     },
     "metadata": {},
     "output_type": "display_data"
    },
    {
     "data": {
      "image/png": "[encoded data removed]",
      "text/plain": [
       "<Figure size 416.375x360 with 1 Axes>"
      ]
     },
     "metadata": {
      "needs_background": "light"
     },
     "output_type": "display_data"
    }
   ],
   "source": [
    "# Color-coded scatter plot w/ regression lines\n",
    "sns.lmplot(x='pricepercent',y='winpercent',hue='chocolate',data=candy_data)\n",
    "\n",
    "# Check your answer\n",
    "step_6.a.check()"
   ]
  },
  {
   "cell_type": "code",
   "execution_count": 19,
   "id": "77f791e2",
   "metadata": {
    "execution": {
     "iopub.execute_input": "2022-09-14T22:28:03.507317Z",
     "iopub.status.busy": "2022-09-14T22:28:03.506771Z",
     "iopub.status.idle": "2022-09-14T22:28:03.512359Z",
     "shell.execute_reply": "2022-09-14T22:28:03.511096Z"
    },
    "papermill": {
     "duration": 0.022844,
     "end_time": "2022-09-14T22:28:03.514925",
     "exception": false,
     "start_time": "2022-09-14T22:28:03.492081",
     "status": "completed"
    },
    "tags": []
   },
   "outputs": [],
   "source": [
    "# Lines below will give you a hint or solution code\n",
    "#step_6.a.hint()\n",
    "#step_6.a.solution_plot()"
   ]
  },
  {
   "cell_type": "markdown",
   "id": "0bb0e63c",
   "metadata": {
    "papermill": {
     "duration": 0.012645,
     "end_time": "2022-09-14T22:28:03.540903",
     "exception": false,
     "start_time": "2022-09-14T22:28:03.528258",
     "status": "completed"
    },
    "tags": []
   },
   "source": [
    "#### Part B\n",
    "\n",
    "Using the regression lines, what conclusions can you draw about the effects of chocolate and price on candy popularity?"
   ]
  },
  {
   "cell_type": "code",
   "execution_count": 20,
   "id": "640f9426",
   "metadata": {
    "execution": {
     "iopub.execute_input": "2022-09-14T22:28:03.569926Z",
     "iopub.status.busy": "2022-09-14T22:28:03.568692Z",
     "iopub.status.idle": "2022-09-14T22:28:03.574451Z",
     "shell.execute_reply": "2022-09-14T22:28:03.573249Z"
    },
    "papermill": {
     "duration": 0.02256,
     "end_time": "2022-09-14T22:28:03.576944",
     "exception": false,
     "start_time": "2022-09-14T22:28:03.554384",
     "status": "completed"
    },
    "tags": []
   },
   "outputs": [],
   "source": [
    "#step_6.b.hint()"
   ]
  },
  {
   "cell_type": "code",
   "execution_count": 21,
   "id": "1c93a931",
   "metadata": {
    "execution": {
     "iopub.execute_input": "2022-09-14T22:28:03.606903Z",
     "iopub.status.busy": "2022-09-14T22:28:03.605585Z",
     "iopub.status.idle": "2022-09-14T22:28:03.614116Z",
     "shell.execute_reply": "2022-09-14T22:28:03.613294Z"
    },
    "papermill": {
     "duration": 0.025489,
     "end_time": "2022-09-14T22:28:03.616306",
     "exception": false,
     "start_time": "2022-09-14T22:28:03.590817",
     "status": "completed"
    },
    "tags": []
   },
   "outputs": [
    {
     "data": {
      "application/javascript": [
       "parent.postMessage({\"jupyterEvent\": \"custom.exercise_interaction\", \"data\": {\"interactionType\": 3, \"questionType\": 4, \"questionId\": \"6.2_ThinkColorReg\", \"learnToolsVersion\": \"0.3.4\", \"valueTowardsCompletion\": 0.0, \"failureMessage\": \"\", \"exceptionClass\": \"\", \"trace\": \"\", \"outcomeType\": 4}}, \"*\")"
      ],
      "text/plain": [
       "<IPython.core.display.Javascript object>"
      ]
     },
     "metadata": {},
     "output_type": "display_data"
    },
    {
     "data": {
      "text/markdown": [
       "<span style=\"color:#33cc99\">Solution:</span> We'll begin with the regression line for chocolate candies. Since this line has a slightly positive slope, we can say that more expensive chocolate candies tend to be more popular (than relatively cheaper chocolate candies).  Likewise, since the regression line for candies without chocolate has a negative slope, we can say that if candies don't contain chocolate, they tend to be more popular when they are cheaper.  One important note, however, is that the dataset is quite small -- so we shouldn't invest too much trust in these patterns!  To inspire more confidence in the results, we should add more candies to the dataset."
      ],
      "text/plain": [
       "Solution: We'll begin with the regression line for chocolate candies. Since this line has a slightly positive slope, we can say that more expensive chocolate candies tend to be more popular (than relatively cheaper chocolate candies).  Likewise, since the regression line for candies without chocolate has a negative slope, we can say that if candies don't contain chocolate, they tend to be more popular when they are cheaper.  One important note, however, is that the dataset is quite small -- so we shouldn't invest too much trust in these patterns!  To inspire more confidence in the results, we should add more candies to the dataset."
      ]
     },
     "metadata": {},
     "output_type": "display_data"
    }
   ],
   "source": [
    "# Check your answer (Run this code cell to receive credit!)\n",
    "step_6.b.solution()"
   ]
  },
  {
   "cell_type": "markdown",
   "id": "7f5b98a0",
   "metadata": {
    "papermill": {
     "duration": 0.01319,
     "end_time": "2022-09-14T22:28:03.642626",
     "exception": false,
     "start_time": "2022-09-14T22:28:03.629436",
     "status": "completed"
    },
    "tags": []
   },
   "source": [
    "candy_data['chocolate']## Step 7: Everybody loves chocolate.\n",
    "\n",
    "#### Part A\n",
    "\n",
    "Create a categorical scatter plot to highlight the relationship between `'chocolate'` and `'winpercent'`.  Put `'chocolate'` on the (horizontal) x-axis, and `'winpercent'` on the (vertical) y-axis."
   ]
  },
  {
   "cell_type": "code",
   "execution_count": 22,
   "id": "c70fc1ce",
   "metadata": {
    "execution": {
     "iopub.execute_input": "2022-09-14T22:28:03.670972Z",
     "iopub.status.busy": "2022-09-14T22:28:03.670188Z",
     "iopub.status.idle": "2022-09-14T22:28:03.906376Z",
     "shell.execute_reply": "2022-09-14T22:28:03.905085Z"
    },
    "papermill": {
     "duration": 0.253478,
     "end_time": "2022-09-14T22:28:03.909036",
     "exception": false,
     "start_time": "2022-09-14T22:28:03.655558",
     "status": "completed"
    },
    "tags": []
   },
   "outputs": [
    {
     "data": {
      "application/javascript": [
       "parent.postMessage({\"jupyterEvent\": \"custom.exercise_interaction\", \"data\": {\"outcomeType\": 1, \"valueTowardsCompletion\": 0.3333333333333333, \"interactionType\": 1, \"questionType\": 2, \"questionId\": \"7.1_PlotSwarm\", \"learnToolsVersion\": \"0.3.4\", \"failureMessage\": \"\", \"exceptionClass\": \"\", \"trace\": \"\"}}, \"*\")"
      ],
      "text/plain": [
       "<IPython.core.display.Javascript object>"
      ]
     },
     "metadata": {},
     "output_type": "display_data"
    },
    {
     "data": {
      "text/markdown": [
       "<span style=\"color:#33cc33\">Correct</span>"
      ],
      "text/plain": [
       "Correct"
      ]
     },
     "metadata": {},
     "output_type": "display_data"
    },
    {
     "data": {
      "image/png": "[encoded data removed]",
      "text/plain": [
       "<Figure size 432x288 with 1 Axes>"
      ]
     },
     "metadata": {
      "needs_background": "light"
     },
     "output_type": "display_data"
    }
   ],
   "source": [
    "# Scatter plot showing the relationship between 'chocolate' and 'winpercent'\n",
    "sns.swarmplot(x=candy_data['chocolate'],y=candy_data['winpercent'])\n",
    "\n",
    "# Check your answer\n",
    "step_7.a.check()"
   ]
  },
  {
   "cell_type": "code",
   "execution_count": 23,
   "id": "99ff50d5",
   "metadata": {
    "execution": {
     "iopub.execute_input": "2022-09-14T22:28:03.938585Z",
     "iopub.status.busy": "2022-09-14T22:28:03.938044Z",
     "iopub.status.idle": "2022-09-14T22:28:03.943416Z",
     "shell.execute_reply": "2022-09-14T22:28:03.942156Z"
    },
    "papermill": {
     "duration": 0.022889,
     "end_time": "2022-09-14T22:28:03.945675",
     "exception": false,
     "start_time": "2022-09-14T22:28:03.922786",
     "status": "completed"
    },
    "tags": []
   },
   "outputs": [],
   "source": [
    "# Lines below will give you a hint or solution code\n",
    "#step_7.a.hint()\n",
    "#step_7.a.solution_plot()"
   ]
  },
  {
   "cell_type": "markdown",
   "id": "2a5583f3",
   "metadata": {
    "papermill": {
     "duration": 0.013936,
     "end_time": "2022-09-14T22:28:03.973544",
     "exception": false,
     "start_time": "2022-09-14T22:28:03.959608",
     "status": "completed"
    },
    "tags": []
   },
   "source": [
    "#### Part B\n",
    "\n",
    "You decide to dedicate a section of your report to the fact that chocolate candies tend to be more popular than candies without chocolate.  Which plot is more appropriate to tell this story: the plot from **Step 6**, or the plot from **Step 7**?"
   ]
  },
  {
   "cell_type": "code",
   "execution_count": 24,
   "id": "68fc709e",
   "metadata": {
    "execution": {
     "iopub.execute_input": "2022-09-14T22:28:04.004001Z",
     "iopub.status.busy": "2022-09-14T22:28:04.003099Z",
     "iopub.status.idle": "2022-09-14T22:28:04.008822Z",
     "shell.execute_reply": "2022-09-14T22:28:04.007658Z"
    },
    "papermill": {
     "duration": 0.023683,
     "end_time": "2022-09-14T22:28:04.011230",
     "exception": false,
     "start_time": "2022-09-14T22:28:03.987547",
     "status": "completed"
    },
    "tags": []
   },
   "outputs": [],
   "source": [
    "#step_7.b.hint()"
   ]
  },
  {
   "cell_type": "code",
   "execution_count": 25,
   "id": "9925bcac",
   "metadata": {
    "execution": {
     "iopub.execute_input": "2022-09-14T22:28:04.040822Z",
     "iopub.status.busy": "2022-09-14T22:28:04.040328Z",
     "iopub.status.idle": "2022-09-14T22:28:04.049054Z",
     "shell.execute_reply": "2022-09-14T22:28:04.048235Z"
    },
    "papermill": {
     "duration": 0.026131,
     "end_time": "2022-09-14T22:28:04.051219",
     "exception": false,
     "start_time": "2022-09-14T22:28:04.025088",
     "status": "completed"
    },
    "tags": []
   },
   "outputs": [
    {
     "data": {
      "application/javascript": [
       "parent.postMessage({\"jupyterEvent\": \"custom.exercise_interaction\", \"data\": {\"interactionType\": 3, \"questionType\": 4, \"questionId\": \"7.2_ThinkSwarm\", \"learnToolsVersion\": \"0.3.4\", \"valueTowardsCompletion\": 0.0, \"failureMessage\": \"\", \"exceptionClass\": \"\", \"trace\": \"\", \"outcomeType\": 4}}, \"*\")"
      ],
      "text/plain": [
       "<IPython.core.display.Javascript object>"
      ]
     },
     "metadata": {},
     "output_type": "display_data"
    },
    {
     "data": {
      "text/markdown": [
       "<span style=\"color:#33cc99\">Solution:</span> In this case, the categorical scatter plot from **Step 7** is the more appropriate plot. While both plots tell the desired story, the plot from **Step 6** conveys far more information that could distract from the main point."
      ],
      "text/plain": [
       "Solution: In this case, the categorical scatter plot from **Step 7** is the more appropriate plot. While both plots tell the desired story, the plot from **Step 6** conveys far more information that could distract from the main point."
      ]
     },
     "metadata": {},
     "output_type": "display_data"
    }
   ],
   "source": [
    "# Check your answer (Run this code cell to receive credit!)\n",
    "step_7.b.solution()"
   ]
  },
  {
   "cell_type": "markdown",
   "id": "98bb2c66",
   "metadata": {
    "papermill": {
     "duration": 0.013375,
     "end_time": "2022-09-14T22:28:04.078677",
     "exception": false,
     "start_time": "2022-09-14T22:28:04.065302",
     "status": "completed"
    },
    "tags": []
   },
   "source": [
    "## Keep going\n",
    "\n",
    "Explore **[histograms and density plots](https://www.kaggle.com/alexisbcook/distributions)**."
   ]
  },
  {
   "cell_type": "markdown",
   "id": "49f75eb1",
   "metadata": {
    "papermill": {
     "duration": 0.013356,
     "end_time": "2022-09-14T22:28:04.105851",
     "exception": false,
     "start_time": "2022-09-14T22:28:04.092495",
     "status": "completed"
    },
    "tags": []
   },
   "source": [
    "---\n",
    "\n",
    "\n",
    "\n",
    "\n",
    "*Have questions or comments? Visit the [course discussion forum](https://www.kaggle.com/learn/data-visualization/discussion) to chat with other learners.*"
   ]
  }
 ],
 "metadata": {
  "kernelspec": {
   "display_name": "Python 3",
   "language": "python",
   "name": "python3"
  },
  "language_info": {
   "codemirror_mode": {
    "name": "ipython",
    "version": 3
   },
   "file_extension": ".py",
   "mimetype": "text/x-python",
   "name": "python",
   "nbconvert_exporter": "python",
   "pygments_lexer": "ipython3",
   "version": "3.7.12"
  },
  "papermill": {
   "default_parameters": {},
   "duration": 15.906284,
   "end_time": "2022-09-14T22:28:05.144695",
   "environment_variables": {},
   "exception": null,
   "input_path": "__notebook__.ipynb",
   "output_path": "__notebook__.ipynb",
   "parameters": {},
   "start_time": "2022-09-14T22:27:49.238411",
   "version": "2.3.4"
  }
 },
 "nbformat": 4,
 "nbformat_minor": 5
}
